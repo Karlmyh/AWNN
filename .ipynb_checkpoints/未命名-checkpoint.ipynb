{
 "cells": [
  {
   "cell_type": "code",
   "execution_count": null,
   "id": "2d4fc40a",
   "metadata": {},
   "outputs": [],
   "source": [
    "from _AWNN import AWNN\n",
    "dim=8\n",
    "n_train=300\n",
    "n_test=300\n",
    "distribution=1\n",
    "np.random.seed(2)\n",
    "density=TestDistribution(distribution,dim).returnDistribution()\n",
    "\n",
    "X_train, pdf_X_train = density.generate(n_train)\n",
    "\n",
    "X_test, pdf_X_test = density.generate(n_test)\n"
   ]
  }
 ],
 "metadata": {
  "kernelspec": {
   "display_name": "Python 3 (ipykernel)",
   "language": "python",
   "name": "python3"
  },
  "language_info": {
   "codemirror_mode": {
    "name": "ipython",
    "version": 3
   },
   "file_extension": ".py",
   "mimetype": "text/x-python",
   "name": "python",
   "nbconvert_exporter": "python",
   "pygments_lexer": "ipython3",
   "version": "3.8.2"
  }
 },
 "nbformat": 4,
 "nbformat_minor": 5
}
